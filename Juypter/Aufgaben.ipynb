{
 "cells": [
  {
   "cell_type": "code",
   "execution_count": 41,
   "metadata": {},
   "outputs": [],
   "source": [
    "import matplotlib.pyplot as plt\n",
    "import numpy as np\n",
    "from scipy.constants import epsilon_0"
   ]
  },
  {
   "cell_type": "code",
   "execution_count": 20,
   "metadata": {},
   "outputs": [],
   "source": [
    "epsilon_al = 9.6\n",
    "epsilon_pet = 3.3"
   ]
  },
  {
   "cell_type": "code",
   "execution_count": 30,
   "metadata": {},
   "outputs": [],
   "source": [
    "def calc_cap(a,d,epsilon_r=1):\n",
    "    return epsilon_0 * epsilon_r * a / d\n",
    "\n",
    "def calc_d(a,c,epsilon_r=1):\n",
    "    return epsilon_0 * epsilon_r * a / c\n",
    "\n",
    "def calc_a(c,d,epsilon_r=1):\n",
    "    return c / (epsilon_0 * epsilon_r) * d\n"
   ]
  },
  {
   "cell_type": "code",
   "execution_count": 27,
   "metadata": {},
   "outputs": [
    {
     "name": "stdout",
     "output_type": "stream",
     "text": [
      "1.8214329214902858e-07\n"
     ]
    }
   ],
   "source": [
    "# Aufgabe 1\n",
    "print(calc_cap(3e-6,1.4e-9,epsilon_al))"
   ]
  },
  {
   "cell_type": "code",
   "execution_count": 28,
   "metadata": {},
   "outputs": [
    {
     "name": "stdout",
     "output_type": "stream",
     "text": [
      "1.2522351335245715e-10\n"
     ]
    }
   ],
   "source": [
    "# Aufgabe 2\n",
    "print(calc_cap(3e-6,700e-9,epsilon_pet))"
   ]
  },
  {
   "cell_type": "code",
   "execution_count": 31,
   "metadata": {},
   "outputs": [
    {
     "name": "stdout",
     "output_type": "stream",
     "text": [
      "102673.55157936538\n"
     ]
    }
   ],
   "source": [
    "# Aufgabe 3\n",
    "print(calc_a(3e-6,1,epsilon_pet))"
   ]
  },
  {
   "cell_type": "code",
   "execution_count": 34,
   "metadata": {},
   "outputs": [
    {
     "name": "stdout",
     "output_type": "stream",
     "text": [
      "1.21\n"
     ]
    }
   ],
   "source": [
    "# Aufgabe 4\n",
    "print(0.22*5.5)"
   ]
  },
  {
   "cell_type": "code",
   "execution_count": 36,
   "metadata": {},
   "outputs": [
    {
     "name": "stdout",
     "output_type": "stream",
     "text": [
      "9.9e-07\n"
     ]
    }
   ],
   "source": [
    "# Aufgabe 5\n",
    "print(0.18e-6*5.5)"
   ]
  },
  {
   "cell_type": "code",
   "execution_count": 39,
   "metadata": {},
   "outputs": [
    {
     "name": "stdout",
     "output_type": "stream",
     "text": [
      "22.0\n"
     ]
    }
   ],
   "source": [
    "# Aufgabe 5\n",
    "print(220e-6*100e3)"
   ]
  },
  {
   "cell_type": "code",
   "execution_count": 1,
   "metadata": {},
   "outputs": [
    {
     "name": "stdout",
     "output_type": "stream",
     "text": [
      "9090.90909090909\n"
     ]
    }
   ],
   "source": [
    "# Aufgabe 8 und 9\n",
    "tau = 2\n",
    "c = 220e-6\n",
    "\n",
    "r = tau /c\n",
    "\n",
    "print(r)"
   ]
  },
  {
   "cell_type": "code",
   "execution_count": null,
   "metadata": {},
   "outputs": [],
   "source": []
  }
 ],
 "metadata": {
  "kernelspec": {
   "display_name": "Python 3",
   "language": "python",
   "name": "python3"
  },
  "language_info": {
   "codemirror_mode": {
    "name": "ipython",
    "version": 3
   },
   "file_extension": ".py",
   "mimetype": "text/x-python",
   "name": "python",
   "nbconvert_exporter": "python",
   "pygments_lexer": "ipython3",
   "version": "3.8.6"
  }
 },
 "nbformat": 4,
 "nbformat_minor": 4
}
